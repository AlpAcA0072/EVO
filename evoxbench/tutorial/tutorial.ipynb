{
 "cells": [
  {
   "cell_type": "code",
   "execution_count": 11,
   "metadata": {},
   "outputs": [
    {
     "data": {
      "text/html": [
       "<style>.container { width:100% !important; }</style>"
      ],
      "text/plain": [
       "<IPython.core.display.HTML object>"
      ]
     },
     "metadata": {},
     "output_type": "display_data"
    }
   ],
   "source": [
    "from IPython.core.display import display, HTML\n",
    "display(HTML(\"<style>.container { width:100% !important; }</style>\"))"
   ]
  },
  {
   "cell_type": "code",
   "execution_count": 12,
   "metadata": {},
   "outputs": [
    {
     "name": "stdout",
     "output_type": "stream",
     "text": [
      "['d:\\\\evo\\\\evoxbench\\\\tutorial', 'd:\\\\Anaconda\\\\envs\\\\evo\\\\python37.zip', 'd:\\\\Anaconda\\\\envs\\\\evo\\\\DLLs', 'd:\\\\Anaconda\\\\envs\\\\evo\\\\lib', 'd:\\\\Anaconda\\\\envs\\\\evo', '', 'd:\\\\Anaconda\\\\envs\\\\evo\\\\lib\\\\site-packages', 'd:\\\\Anaconda\\\\envs\\\\evo\\\\lib\\\\site-packages\\\\win32', 'd:\\\\Anaconda\\\\envs\\\\evo\\\\lib\\\\site-packages\\\\win32\\\\lib', 'd:\\\\Anaconda\\\\envs\\\\evo\\\\lib\\\\site-packages\\\\Pythonwin', 'd:\\\\Anaconda\\\\envs\\\\evo\\\\lib\\\\site-packages\\\\IPython\\\\extensions', 'C:\\\\Users\\\\23356\\\\.ipython', 'D:\\\\evo\\\\evoxbench', 'D:\\\\evo\\\\database\\\\database', 'D:\\\\evo\\\\database\\\\database', 'D:\\\\evo\\\\database\\\\database', 'D:\\\\evo\\\\database\\\\database', 'D:\\\\evo\\\\evoxbench', 'D:\\\\evo\\\\database\\\\database', 'D:\\\\evo\\\\database\\\\database', 'D:\\\\evo\\\\evoxbench', 'D:\\\\evo\\\\database', 'D:\\\\evo\\\\data', 'D:\\\\evo\\\\nasbench']\n"
     ]
    }
   ],
   "source": [
    "import sys\n",
    "sys.path.append(r\"D:\\evo\\evoxbench\")\n",
    "sys.path.append(r\"D:\\evo\\database\")\n",
    "sys.path.append(r\"D:\\evo\\data\")\n",
    "sys.path.append(r\"D:\\evo\\nasbench\")\n",
    "print(sys.path)"
   ]
  },
  {
   "attachments": {},
   "cell_type": "markdown",
   "metadata": {},
   "source": [
    "# Introduction to EvoXBench\n",
    "\n",
    "In this notebook, we will demonstrate \n",
    "- how to install EvoXBench\n",
    "- the basics of EvoXBench\n",
    "\n",
    "**[EvoXBench](https://arxiv.org/abs/2208.04321)** is an efficient platform \n",
    "for facilitating neural architecture search (NAS) \n",
    "without the requirement of *GPUs* or \n",
    "sophisticated deep learning packages, such as *PyTorch, TensorFlow*, etc.\n",
    "\n",
    "![](https://raw.githubusercontent.com/EMI-Group/evoxbench/main/assets/evoxbench_overview.png)"
   ]
  },
  {
   "attachments": {},
   "cell_type": "markdown",
   "metadata": {},
   "source": [
    "## 1. Preparation \n",
    "Let's perform the following steps to have EvoXBench properly installed. \n",
    "\n",
    "First, download the following two files:\n",
    "- ``database_xxx.zip`` from [Google Drive](https://drive.google.com/file/d/11bQ1paHEWHDnnTPtxs2OyVY_Re-38DiO/view?usp=sharing) or [Baidu NetDisk](https://pan.baidu.com/s/1PwWloA543-81O-GFkA7GKg)\n",
    "- ``data_xxx.zip`` from [Google Drive](https://drive.google.com/file/d/1fUZtpTjfEQao2unLKaspL8fOq4xdSXt2/view?usp=sharing) or [Baidu NetDisk](https://pan.baidu.com/s/1yopkISKyjbWIHXFV_Op3pg)\n",
    "\n",
    "Second, unzip these two files and find their paths\n",
    "- my ``database`` and ``data`` are unzipped to:\n",
    "```python\n",
    "    # /Users/luzhicha/Dropbox/2023/github/evoxbench/\n",
    "    # └─ database/\n",
    "    # |  |  __init__.py\n",
    "    # |  |  db.sqlite3\n",
    "    # |  |  ...\n",
    "    # |  \n",
    "    # └─ data/\n",
    "    #    └─ darts/\n",
    "    #    └─ mnv3/\n",
    "    #    └─ ...\n",
    "```\n",
    "\n"
   ]
  },
  {
   "cell_type": "code",
   "execution_count": 13,
   "metadata": {},
   "outputs": [],
   "source": [
    "# print('Installing EvoXBench...')\n",
    "# ! pip install evoxbench 1>/dev/null\n",
    "# # ! pip install git+https://github.com/EMI-Group/evoxbench "
   ]
  },
  {
   "cell_type": "code",
   "execution_count": 14,
   "metadata": {},
   "outputs": [
    {
     "name": "stdout",
     "output_type": "stream",
     "text": [
      "Configurating EvoXBench...\n",
      "Configuration Succeed!\n"
     ]
    },
    {
     "ename": "ImproperlyConfigured",
     "evalue": "Requested setting LOGGING_CONFIG, but settings are not configured. You must either define the environment variable DJANGO_SETTINGS_MODULE or call settings.configure() before accessing settings.",
     "output_type": "error",
     "traceback": [
      "\u001b[1;31m---------------------------------------------------------------------------\u001b[0m",
      "\u001b[1;31mImproperlyConfigured\u001b[0m                      Traceback (most recent call last)",
      "\u001b[1;32m~\\AppData\\Local\\Temp\\ipykernel_7172\\1010096819.py\u001b[0m in \u001b[0;36m<module>\u001b[1;34m\u001b[0m\n\u001b[0;32m      3\u001b[0m \u001b[1;31m# make sure you update these two paths accordingly, and the first path should be for database file\u001b[0m\u001b[1;33m\u001b[0m\u001b[1;33m\u001b[0m\u001b[1;33m\u001b[0m\u001b[0m\n\u001b[0;32m      4\u001b[0m config(\"D:\\evo\\database\\database\",\n\u001b[1;32m----> 5\u001b[1;33m        \"D:\\evo\\data\\data\")\n\u001b[0m",
      "\u001b[1;32mD:\\evo\\evoxbench\\evoxbench\\database\\init.py\u001b[0m in \u001b[0;36mconfig\u001b[1;34m(database_path, data_path)\u001b[0m\n\u001b[0;32m     58\u001b[0m                 \u001b[1;32mreturn\u001b[0m\u001b[1;33m\u001b[0m\u001b[1;33m\u001b[0m\u001b[0m\n\u001b[0;32m     59\u001b[0m         \u001b[1;32mexcept\u001b[0m \u001b[0mException\u001b[0m \u001b[1;32mas\u001b[0m \u001b[0me\u001b[0m\u001b[1;33m:\u001b[0m\u001b[1;33m\u001b[0m\u001b[1;33m\u001b[0m\u001b[0m\n\u001b[1;32m---> 60\u001b[1;33m             \u001b[1;32mraise\u001b[0m \u001b[0me\u001b[0m\u001b[1;33m\u001b[0m\u001b[1;33m\u001b[0m\u001b[0m\n\u001b[0m\u001b[0;32m     61\u001b[0m             \u001b[0mprint\u001b[0m\u001b[1;33m(\u001b[0m\u001b[1;34mf\"Configuration Failed!\\n{str(e)}\"\u001b[0m\u001b[1;33m)\u001b[0m\u001b[1;33m\u001b[0m\u001b[1;33m\u001b[0m\u001b[0m\n\u001b[0;32m     62\u001b[0m     \u001b[0mprint\u001b[0m\u001b[1;33m(\u001b[0m\u001b[1;34mf\"Configuration Failed, it's not a regular file\"\u001b[0m\u001b[1;33m)\u001b[0m\u001b[1;33m\u001b[0m\u001b[1;33m\u001b[0m\u001b[0m\n",
      "\u001b[1;32mD:\\evo\\evoxbench\\evoxbench\\database\\init.py\u001b[0m in \u001b[0;36mconfig\u001b[1;34m(database_path, data_path)\u001b[0m\n\u001b[0;32m     55\u001b[0m                 \u001b[0mjson\u001b[0m\u001b[1;33m.\u001b[0m\u001b[0mdump\u001b[0m\u001b[1;33m(\u001b[0m\u001b[0mconfig\u001b[0m\u001b[1;33m,\u001b[0m \u001b[0mf\u001b[0m\u001b[1;33m)\u001b[0m\u001b[1;33m\u001b[0m\u001b[1;33m\u001b[0m\u001b[0m\n\u001b[0;32m     56\u001b[0m                 \u001b[0mprint\u001b[0m\u001b[1;33m(\u001b[0m\u001b[1;34m'Configuration Succeed!'\u001b[0m\u001b[1;33m)\u001b[0m\u001b[1;33m\u001b[0m\u001b[1;33m\u001b[0m\u001b[0m\n\u001b[1;32m---> 57\u001b[1;33m                 \u001b[0minit\u001b[0m\u001b[1;33m(\u001b[0m\u001b[0mdatabase_path\u001b[0m\u001b[1;33m)\u001b[0m\u001b[1;33m\u001b[0m\u001b[1;33m\u001b[0m\u001b[0m\n\u001b[0m\u001b[0;32m     58\u001b[0m                 \u001b[1;32mreturn\u001b[0m\u001b[1;33m\u001b[0m\u001b[1;33m\u001b[0m\u001b[0m\n\u001b[0;32m     59\u001b[0m         \u001b[1;32mexcept\u001b[0m \u001b[0mException\u001b[0m \u001b[1;32mas\u001b[0m \u001b[0me\u001b[0m\u001b[1;33m:\u001b[0m\u001b[1;33m\u001b[0m\u001b[1;33m\u001b[0m\u001b[0m\n",
      "\u001b[1;32mD:\\evo\\evoxbench\\evoxbench\\database\\init.py\u001b[0m in \u001b[0;36minit\u001b[1;34m(cwd)\u001b[0m\n\u001b[0;32m     40\u001b[0m     \u001b[0mos\u001b[0m\u001b[1;33m.\u001b[0m\u001b[0menviron\u001b[0m\u001b[1;33m[\u001b[0m\u001b[1;34m\"DJANGO_ALLOW_ASYNC_UNSAFE\"\u001b[0m\u001b[1;33m]\u001b[0m \u001b[1;33m=\u001b[0m \u001b[1;34m\"true\"\u001b[0m\u001b[1;33m\u001b[0m\u001b[1;33m\u001b[0m\u001b[0m\n\u001b[0;32m     41\u001b[0m     \u001b[0mos\u001b[0m\u001b[1;33m.\u001b[0m\u001b[0menviron\u001b[0m\u001b[1;33m.\u001b[0m\u001b[0msetdefault\u001b[0m\u001b[1;33m(\u001b[0m\u001b[1;34m'DJANGO_SETTINGS_MODULE'\u001b[0m\u001b[1;33m,\u001b[0m \u001b[1;34m\"ORM.settings\"\u001b[0m\u001b[1;33m)\u001b[0m\u001b[1;33m\u001b[0m\u001b[1;33m\u001b[0m\u001b[0m\n\u001b[1;32m---> 42\u001b[1;33m     \u001b[0mdjango\u001b[0m\u001b[1;33m.\u001b[0m\u001b[0msetup\u001b[0m\u001b[1;33m(\u001b[0m\u001b[1;33m)\u001b[0m\u001b[1;33m\u001b[0m\u001b[1;33m\u001b[0m\u001b[0m\n\u001b[0m\u001b[0;32m     43\u001b[0m \u001b[1;33m\u001b[0m\u001b[0m\n\u001b[0;32m     44\u001b[0m \u001b[1;33m\u001b[0m\u001b[0m\n",
      "\u001b[1;32md:\\Anaconda\\envs\\evo\\lib\\site-packages\\django\\__init__.py\u001b[0m in \u001b[0;36msetup\u001b[1;34m(set_prefix)\u001b[0m\n\u001b[0;32m     17\u001b[0m     \u001b[1;32mfrom\u001b[0m \u001b[0mdjango\u001b[0m\u001b[1;33m.\u001b[0m\u001b[0mutils\u001b[0m\u001b[1;33m.\u001b[0m\u001b[0mlog\u001b[0m \u001b[1;32mimport\u001b[0m \u001b[0mconfigure_logging\u001b[0m\u001b[1;33m\u001b[0m\u001b[1;33m\u001b[0m\u001b[0m\n\u001b[0;32m     18\u001b[0m \u001b[1;33m\u001b[0m\u001b[0m\n\u001b[1;32m---> 19\u001b[1;33m     \u001b[0mconfigure_logging\u001b[0m\u001b[1;33m(\u001b[0m\u001b[0msettings\u001b[0m\u001b[1;33m.\u001b[0m\u001b[0mLOGGING_CONFIG\u001b[0m\u001b[1;33m,\u001b[0m \u001b[0msettings\u001b[0m\u001b[1;33m.\u001b[0m\u001b[0mLOGGING\u001b[0m\u001b[1;33m)\u001b[0m\u001b[1;33m\u001b[0m\u001b[1;33m\u001b[0m\u001b[0m\n\u001b[0m\u001b[0;32m     20\u001b[0m     \u001b[1;32mif\u001b[0m \u001b[0mset_prefix\u001b[0m\u001b[1;33m:\u001b[0m\u001b[1;33m\u001b[0m\u001b[1;33m\u001b[0m\u001b[0m\n\u001b[0;32m     21\u001b[0m         set_script_prefix(\n",
      "\u001b[1;32md:\\Anaconda\\envs\\evo\\lib\\site-packages\\django\\conf\\__init__.py\u001b[0m in \u001b[0;36m__getattr__\u001b[1;34m(self, name)\u001b[0m\n\u001b[0;32m     80\u001b[0m         \u001b[1;34m\"\"\"Return the value of a setting and cache it in self.__dict__.\"\"\"\u001b[0m\u001b[1;33m\u001b[0m\u001b[1;33m\u001b[0m\u001b[0m\n\u001b[0;32m     81\u001b[0m         \u001b[1;32mif\u001b[0m \u001b[0mself\u001b[0m\u001b[1;33m.\u001b[0m\u001b[0m_wrapped\u001b[0m \u001b[1;32mis\u001b[0m \u001b[0mempty\u001b[0m\u001b[1;33m:\u001b[0m\u001b[1;33m\u001b[0m\u001b[1;33m\u001b[0m\u001b[0m\n\u001b[1;32m---> 82\u001b[1;33m             \u001b[0mself\u001b[0m\u001b[1;33m.\u001b[0m\u001b[0m_setup\u001b[0m\u001b[1;33m(\u001b[0m\u001b[0mname\u001b[0m\u001b[1;33m)\u001b[0m\u001b[1;33m\u001b[0m\u001b[1;33m\u001b[0m\u001b[0m\n\u001b[0m\u001b[0;32m     83\u001b[0m         \u001b[0mval\u001b[0m \u001b[1;33m=\u001b[0m \u001b[0mgetattr\u001b[0m\u001b[1;33m(\u001b[0m\u001b[0mself\u001b[0m\u001b[1;33m.\u001b[0m\u001b[0m_wrapped\u001b[0m\u001b[1;33m,\u001b[0m \u001b[0mname\u001b[0m\u001b[1;33m)\u001b[0m\u001b[1;33m\u001b[0m\u001b[1;33m\u001b[0m\u001b[0m\n\u001b[0;32m     84\u001b[0m \u001b[1;33m\u001b[0m\u001b[0m\n",
      "\u001b[1;32md:\\Anaconda\\envs\\evo\\lib\\site-packages\\django\\conf\\__init__.py\u001b[0m in \u001b[0;36m_setup\u001b[1;34m(self, name)\u001b[0m\n\u001b[0;32m     65\u001b[0m                 \u001b[1;34m\"You must either define the environment variable %s \"\u001b[0m\u001b[1;33m\u001b[0m\u001b[1;33m\u001b[0m\u001b[0m\n\u001b[0;32m     66\u001b[0m                 \u001b[1;34m\"or call settings.configure() before accessing settings.\"\u001b[0m\u001b[1;33m\u001b[0m\u001b[1;33m\u001b[0m\u001b[0m\n\u001b[1;32m---> 67\u001b[1;33m                 % (desc, ENVIRONMENT_VARIABLE))\n\u001b[0m\u001b[0;32m     68\u001b[0m \u001b[1;33m\u001b[0m\u001b[0m\n\u001b[0;32m     69\u001b[0m         \u001b[0mself\u001b[0m\u001b[1;33m.\u001b[0m\u001b[0m_wrapped\u001b[0m \u001b[1;33m=\u001b[0m \u001b[0mSettings\u001b[0m\u001b[1;33m(\u001b[0m\u001b[0msettings_module\u001b[0m\u001b[1;33m)\u001b[0m\u001b[1;33m\u001b[0m\u001b[1;33m\u001b[0m\u001b[0m\n",
      "\u001b[1;31mImproperlyConfigured\u001b[0m: Requested setting LOGGING_CONFIG, but settings are not configured. You must either define the environment variable DJANGO_SETTINGS_MODULE or call settings.configure() before accessing settings."
     ]
    }
   ],
   "source": [
    "print('Configurating EvoXBench...')\n",
    "from evoxbench.database.init import config\n",
    "# make sure you update these two paths accordingly, and the first path should be for database file\n",
    "config(\"D:\\evo\\database\\database\",\n",
    "       \"D:\\evo\\data\\data\")"
   ]
  },
  {
   "attachments": {},
   "cell_type": "markdown",
   "metadata": {},
   "source": [
    "Good! Now we have successfully installed and configured **EvoXBench**. Let's now get started with some quick examples."
   ]
  },
  {
   "attachments": {},
   "cell_type": "markdown",
   "metadata": {},
   "source": [
    "# 2.1 How to create a NAS benchmark (search space)\n",
    "\n",
    "**EvoXBench** currently supports the following seven search spaces\n",
    "\n",
    "| Link      | $D$ | $\\Omega$  | Objectives | Dataset |\n",
    "|:----:|:----:|:----:|:----:|:----:|\n",
    "| [NB101](https://github.com/google-research/nasbench) | 26 |423K | $f^{e}, {f}^{c}$ | CIFAR-10 |\n",
    "| [NB201](https://github.com/D-X-Y/NAS-Bench-201) | 6 | 15.6K | $f^{e}$, ${f}^{c}$, ${f}^{\\mathcal{H}}$ | CIFAR-10 |\n",
    "| [NATS](https://github.com/D-X-Y/NATS-Bench) | 5 | 32.8K | $f^{e}$, ${f}^{c}$, ${f}^{\\mathcal{H}}$ | CIFAR-10 |\n",
    "| [DARTS](https://github.com/automl/nasbench301) | 32 | $\\sim10^{21}$ | $f^{e}$, ${f}^{c}$ | CIFAR-10 |\n",
    "| [ResNet-50](https://github.com/mit-han-lab/once-for-all) | 25 | $\\sim10^{14}$ | $f^{e}$, ${f}^{c}$ | ImageNet-1K |\n",
    "| [Transformer](https://github.com/microsoft/Cream/tree/main/AutoFormer) | 34 | $\\sim10^{14}$ | $f^{e}$, ${f}^{c}$ | ImageNet-1K |\n",
    "| [MNV3](https://github.com/mit-han-lab/once-for-all) | 21 | $\\sim10^{20}$ | $f^{e}$, ${f}^{c}$, ${f}^{\\mathcal{H}}$ | ImageNet-1K |\n"
   ]
  },
  {
   "cell_type": "code",
   "execution_count": null,
   "metadata": {},
   "outputs": [],
   "source": [
    "# NAS-Bench-101 search space\n",
    "from evoxbench.benchmarks import NASBench101Benchmark\n",
    "objs = 'err&params'  # ['err&params', 'err&flops', 'err&params&flops']\n",
    "benchmark = NASBench101Benchmark(objs=objs, normalized_objectives=False)\n",
    "print(\"Benchmaking on NB101 search space with objectives: {}\".format(objs))\n",
    "\n",
    "# # NAS-Bench-201 search space\n",
    "# from evoxbench.benchmarks import NASBench201Benchmark\n",
    "# # hardware = 'edgegpu'  # ['edgegpu', 'raspi4', 'edgetpu', 'pixel3', 'eyeriss', 'fpga']\n",
    "# # ['err&params', 'err&flops', 'err&latency', 'err&params&flops', 'err&params&latency', ...]\n",
    "# objs = 'err&params&flops&edgegpu_latency&edgegpu_energy'\n",
    "# benchmark = NASBench201Benchmark(objs=objs, normalized_objectives=False)\n",
    "# print(\"Benchmaking on NB201 search space with objectives: {}\".format(objs))\n",
    "\n",
    "# # NATS size search space \n",
    "# from evoxbench.benchmarks import NATSBenchmark\n",
    "# objs = 'err&params&flops&latency'\n",
    "# # ['err&params', 'err&flops', 'err&latency', 'err&params&flops', 'err&params&latency', ...]\n",
    "# benchmark = NATSBenchmark(objs=objs, normalized_objectives=False)\n",
    "# print(\"Benchmaking on NATS search space with objectives: {}\".format(objs))\n",
    "\n",
    "# # DARTS search space\n",
    "# from evoxbench.benchmarks import DARTSBenchmark\n",
    "# objs = 'err&params'  # ['err&params', 'err&flops', 'err&params&flops']\n",
    "# benchmark = DARTSBenchmark(objs=objs, normalized_objectives=False)\n",
    "# print(\"Benchmaking on DARTS search space with objectives: {}\".format(objs))"
   ]
  },
  {
   "attachments": {},
   "cell_type": "markdown",
   "metadata": {},
   "source": [
    "# 2.2 How to evaluate an architecture"
   ]
  },
  {
   "cell_type": "code",
   "execution_count": null,
   "metadata": {},
   "outputs": [],
   "source": [
    "# let's randomly create N architectures\n",
    "N = 1\n",
    "archs = benchmark.search_space.sample(N)\n",
    "print('Randomly create {} architectures:'.format(N))\n",
    "print(archs)"
   ]
  },
  {
   "cell_type": "code",
   "execution_count": null,
   "metadata": {},
   "outputs": [],
   "source": [
    "# encode architecture (phenotype) to decision variables (genotypes)\n",
    "X = benchmark.search_space.encode(archs)\n",
    "print('Encode architectures to decision variables X: ')\n",
    "print(X)"
   ]
  },
  {
   "cell_type": "code",
   "execution_count": null,
   "metadata": {},
   "outputs": [],
   "source": [
    "# Evaluate the objective values\n",
    "# if true_eval is True, return mean TEST accuracy over multiple runs, \n",
    "# should only be used for final comparison.\n",
    "true_eval = True\n",
    "F = benchmark.evaluate(X, true_eval=true_eval)\n",
    "print(\"Evaluating architectures for objectives: {}\".format(objs))\n",
    "print(F)"
   ]
  },
  {
   "cell_type": "code",
   "execution_count": null,
   "metadata": {},
   "outputs": [],
   "source": [
    "# Evaluate the objective values\n",
    "# if true_eval is False, return VALIDATION accuracy from one (randomly selected) run, \n",
    "# should be used during search\n",
    "true_eval = False\n",
    "print(\"Evaluating architectures for objectives: {}\".format(objs))\n",
    "for i in range(5):\n",
    "    F = benchmark.evaluate(X, true_eval=true_eval)\n",
    "    print(\"Trial {}:\".format(i+1))\n",
    "    print(F)"
   ]
  },
  {
   "cell_type": "code",
   "execution_count": null,
   "metadata": {},
   "outputs": [],
   "source": []
  }
 ],
 "metadata": {
  "kernelspec": {
   "display_name": "Python 3",
   "language": "python",
   "name": "python3"
  },
  "language_info": {
   "codemirror_mode": {
    "name": "ipython",
    "version": 3
   },
   "file_extension": ".py",
   "mimetype": "text/x-python",
   "name": "python",
   "nbconvert_exporter": "python",
   "pygments_lexer": "ipython3",
   "version": "3.7.16"
  }
 },
 "nbformat": 4,
 "nbformat_minor": 4
}
