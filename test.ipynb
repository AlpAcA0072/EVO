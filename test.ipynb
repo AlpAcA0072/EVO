{
 "cells": [
  {
   "cell_type": "code",
   "execution_count": 1,
   "metadata": {},
   "outputs": [
    {
     "ename": "ModuleNotFoundError",
     "evalue": "No module named 'evoxbench.database'",
     "output_type": "error",
     "traceback": [
      "\u001b[1;31m---------------------------------------------------------------------------\u001b[0m",
      "\u001b[1;31mModuleNotFoundError\u001b[0m                       Traceback (most recent call last)",
      "\u001b[1;32m~\\AppData\\Local\\Temp\\ipykernel_8776\\1233685280.py\u001b[0m in \u001b[0;36m<module>\u001b[1;34m\u001b[0m\n\u001b[1;32m----> 1\u001b[1;33m \u001b[1;32mfrom\u001b[0m \u001b[0mevoxbench\u001b[0m\u001b[1;33m.\u001b[0m\u001b[0mdatabase\u001b[0m\u001b[1;33m.\u001b[0m\u001b[0minit\u001b[0m \u001b[1;32mimport\u001b[0m \u001b[0mconfig\u001b[0m\u001b[1;33m\u001b[0m\u001b[1;33m\u001b[0m\u001b[0m\n\u001b[0m\u001b[0;32m      2\u001b[0m \u001b[1;33m\u001b[0m\u001b[0m\n\u001b[0;32m      3\u001b[0m \u001b[0mconfig\u001b[0m\u001b[1;33m(\u001b[0m\u001b[1;34m\"./database/\"\u001b[0m\u001b[1;33m,\u001b[0m \u001b[1;34m\"./data/\"\u001b[0m\u001b[1;33m)\u001b[0m\u001b[1;33m\u001b[0m\u001b[1;33m\u001b[0m\u001b[0m\n",
      "\u001b[1;31mModuleNotFoundError\u001b[0m: No module named 'evoxbench.database'"
     ]
    }
   ],
   "source": [
    "# from evoxbench.database.init import config\n",
    "\n",
    "# config(\"./database/\", \"./data/\")"
   ]
  },
  {
   "cell_type": "code",
   "execution_count": null,
   "metadata": {},
   "outputs": [],
   "source": [
    "from IPython.core.display import display, HTML\n",
    "display(HTML(\"<style>.container { width:100% !important; }</style>\"))\n",
    "\n",
    "import sys\n",
    "sys.path.append(r\"F:\\EVO\\evoxbench\")\n",
    "# sys.path.append(r\"F:\\EVO\\evoxbench\\evoxbench\\database\")\n",
    "sys.path.append(r\"F:\\EVO\\database\")\n",
    "sys.path.append(r\"F:\\EVO\\data\")\n",
    "sys.path.append(r\"F:\\EVO\\nasbench\")\n",
    "sys.path.append(r\"F:\\EVO\\evoxbench\\evoxbench\\database\\ORM\")\n",
    "# print(sys.path)\n",
    "\n",
    "print('Configurating EvoXBench...')\n",
    "from evoxbench.database.init import config\n",
    "# config(\"F:\\EVO\\evoxbench\\evoxbench\\database\", \"F:\\EVO\\data\\data\")\n",
    "config(\"F:\\EVO\\database\\database\", \"F:\\EVO\\data\\data\")"
   ]
  }
 ],
 "metadata": {
  "kernelspec": {
   "display_name": "evo",
   "language": "python",
   "name": "python3"
  },
  "language_info": {
   "codemirror_mode": {
    "name": "ipython",
    "version": 3
   },
   "file_extension": ".py",
   "mimetype": "text/x-python",
   "name": "python",
   "nbconvert_exporter": "python",
   "pygments_lexer": "ipython3",
   "version": "3.7.16"
  },
  "orig_nbformat": 4
 },
 "nbformat": 4,
 "nbformat_minor": 2
}
